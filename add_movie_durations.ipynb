{
 "cells": [
  {
   "cell_type": "markdown",
   "metadata": {},
   "source": [
    "# Import"
   ]
  },
  {
   "cell_type": "code",
   "execution_count": 1,
   "metadata": {},
   "outputs": [],
   "source": [
    "import os\n",
    "import subprocess\n",
    "import re"
   ]
  },
  {
   "cell_type": "markdown",
   "metadata": {},
   "source": [
    "# Functions"
   ]
  },
  {
   "cell_type": "code",
   "execution_count": 2,
   "metadata": {},
   "outputs": [
    {
     "data": {
      "text/plain": [
       "'02:19'"
      ]
     },
     "execution_count": 2,
     "metadata": {},
     "output_type": "execute_result"
    }
   ],
   "source": [
    "def getLength(filename):\n",
    "    result = subprocess.Popen([\"ffprobe\", filename],\n",
    "                              stdout = subprocess.PIPE, \n",
    "                              stderr = subprocess.STDOUT)\n",
    "    line = [x.decode(\"utf-8\") for x in result.stdout.readlines() if \"Duration\" in x.decode(\"utf-8\")][0]\n",
    "    duration = re.search('\\d\\d:\\d\\d:\\d\\d.\\d\\d', line).group(0)[0:5] # extract duration\n",
    "    return(duration)\n",
    "\n",
    "# test function\n",
    "getLength('Mollys.Game.2017.DVDSCR.900MB.MkvCage__02:19__.mkv')"
   ]
  },
  {
   "cell_type": "code",
   "execution_count": 3,
   "metadata": {},
   "outputs": [],
   "source": [
    "vid_extensions = ['mp4', 'mpeg', 'avi', 'mkv']"
   ]
  },
  {
   "cell_type": "code",
   "execution_count": 7,
   "metadata": {},
   "outputs": [
    {
     "name": "stdout",
     "output_type": "stream",
     "text": [
      "no movies (perhaps in subfolders) in: Midnight.in.Paris.1080p.BluRay.x264-MaxHD\n",
      "Many movies in: American Dad Season 14\n",
      "no movies (perhaps in subfolders) in: American Dad S01-S11 (2005-)\n",
      "no movies (perhaps in subfolders) in: Dominika\n",
      "no movies (perhaps in subfolders) in: .ipynb_checkpoints\n",
      "no movies (perhaps in subfolders) in: Jochem\n",
      "no movies (perhaps in subfolders) in: American Dad Season 13 Complete 720p HDTV x264 [i_c]\n"
     ]
    }
   ],
   "source": [
    "for x in os.listdir('.'): # all files and directories\n",
    "    if os.path.isfile(x): # for the files in the directory\n",
    "        if x.endswith(tuple(vid_extensions)) and '__' not in x: # without a duration already\n",
    "            dur = getLength(x)\n",
    "            new_name = x[0:-4] + '__' + dur + '__' + x[-4:]\n",
    "            os.rename(x, new_name)\n",
    "    elif os.path.isdir(x) and '__' not in x: # for the directories in the directory\n",
    "        mov_list = [x for x in os.listdir(x) if x.endswith(tuple(vid_extensions))]\n",
    "        dur = ''\n",
    "        if len(mov_list) == 1:\n",
    "            mov = mov_list[0]\n",
    "            dur = getLength(x+'/'+mov)\n",
    "            new_name = x + '__' + dur + '__'\n",
    "            os.rename(x, new_name)\n",
    "            \n",
    "        elif len(mov_list) == 0:\n",
    "            print('no movies (perhaps in subfolders) in:', x)\n",
    "        \n",
    "        elif len(mov_list) > 1 and len(mov_list) < 4:\n",
    "            lens = []\n",
    "            for m in mov_list:\n",
    "                l = getLength(x+'/'+m)\n",
    "                lens.append(l)\n",
    "            dur = [x for x in lens if x[0:2] != '00'][0]\n",
    "            new_name = x + '__' + dur + '__'\n",
    "            os.rename(x, new_name)\n",
    "        else:\n",
    "            print('Many movies in:', x)"
   ]
  }
 ],
 "metadata": {
  "kernelspec": {
   "display_name": "Python 3",
   "language": "python",
   "name": "python3"
  },
  "language_info": {
   "codemirror_mode": {
    "name": "ipython",
    "version": 3
   },
   "file_extension": ".py",
   "mimetype": "text/x-python",
   "name": "python",
   "nbconvert_exporter": "python",
   "pygments_lexer": "ipython3",
   "version": "3.6.4"
  }
 },
 "nbformat": 4,
 "nbformat_minor": 2
}
